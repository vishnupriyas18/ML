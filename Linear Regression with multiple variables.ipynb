{
 "cells": [
  {
   "cell_type": "code",
   "execution_count": 1,
   "metadata": {},
   "outputs": [],
   "source": [
    "import pandas as pd\n",
    "import numpy as np\n",
    "import matplotlib.pyplot as plt\n",
    "data=pd.read_csv('ex1data2.txt')"
   ]
  },
  {
   "cell_type": "code",
   "execution_count": 2,
   "metadata": {},
   "outputs": [],
   "source": [
    "#organising data\n",
    "m=len(data)\n",
    "x0=pd.Series(np.ones((m)))\n",
    "X=pd.DataFrame([x0,data['x1'],data['x2']],index=['x0','x1','x2'])\n",
    "X=X.T\n",
    "Y=data['y']"
   ]
  },
  {
   "cell_type": "code",
   "execution_count": 3,
   "metadata": {},
   "outputs": [],
   "source": [
    "#Feature normalisation\n",
    "x1m=np.mean(X['x1'])\n",
    "x2m=np.mean(X['x2'])\n",
    "x1r=np.max(X['x1'])-np.min(X['x1'])\n",
    "x2r=np.max(X['x2'])-np.min(X['x2'])\n",
    "X['x1']=(X['x1']-x1m)/x1r\n",
    "X['x2']=(X['x2']-x2m)/x2r"
   ]
  },
  {
   "cell_type": "code",
   "execution_count": 4,
   "metadata": {},
   "outputs": [
    {
     "data": {
      "text/plain": [
       "array([340412.65957447, 504777.90398791, -34952.07644931])"
      ]
     },
     "execution_count": 4,
     "metadata": {},
     "output_type": "execute_result"
    }
   ],
   "source": [
    "#normal equation\n",
    "thetaN=np.dot(np.dot(np.linalg.inv(np.dot(X.T,X)),X.T),Y)\n",
    "hN=np.dot(X,thetaN)\n",
    "thetaN"
   ]
  },
  {
   "cell_type": "code",
   "execution_count": 5,
   "metadata": {},
   "outputs": [],
   "source": [
    "#Cost function\n",
    "theta=[0,0,0]\n",
    "h=np.dot(X,theta)\n",
    "J=(sum((h-Y)**2))/(m*2)"
   ]
  },
  {
   "cell_type": "code",
   "execution_count": 6,
   "metadata": {},
   "outputs": [
    {
     "data": {
      "text/plain": [
       "array([340412.65957447, 504777.90398791, -34952.07644931])"
      ]
     },
     "execution_count": 6,
     "metadata": {},
     "output_type": "execute_result"
    }
   ],
   "source": [
    "#gradient descent\n",
    "theta=[0,0,0]\n",
    "alpha=1.78789\n",
    "iterations=5000\n",
    "for i in range(iterations):\n",
    "    h=np.dot(X,theta)\n",
    "    J=sum(((h-Y)**2)/(m*2))\n",
    "    theta=theta-((np.dot(X.T,(h-Y)))*alpha/m)\n",
    "theta"
   ]
  }
 ],
 "metadata": {
  "language_info": {
   "codemirror_mode": {
    "name": "ipython",
    "version": 3
   },
   "file_extension": ".py",
   "mimetype": "text/x-python",
   "name": "python",
   "nbconvert_exporter": "python",
   "pygments_lexer": "ipython3",
   "version": "3.7.3"
  }
 },
 "nbformat": 4,
 "nbformat_minor": 2
}
